{
 "cells": [
  {
   "cell_type": "markdown",
   "metadata": {},
   "source": [
    "# TensorFlow applied to sleep_classifiers output data\n",
    "This Jupyter Notebook assumes that you have already run Dr. Olivia Walch's <a href=\"https://github.com/ojwalch/sleep_classifiers\">sleep_classifiers</a> preprocessor script, <a href=\"https://github.com/ojwalch/sleep_classifiers/tree/master/source/preprocessing\">preprocessing_runner.py</a>, and that the acceleration data is stored in <code>\\<jupyter_notebook_root>/motion</code>.\n",
    "    \n",
    "Please see also: __Walch, O.__ (2019). _Motion and heart rate from a wrist-worn wearable and labeled sleep from polysomnography (version 1.0.0)_. PhysioNet. https://doi.org/10.13026/hmhs-py35  \n",
    "In particular, in the inital K-means clustering we choose 6 clusters, since she and her collaborators categorized study participants' state into 6 classes. In the future, I plan to use the well-known \"elbow\" method for choosing a _K_-value."
   ]
  },
  {
   "cell_type": "code",
   "execution_count": 1,
   "metadata": {},
   "outputs": [],
   "source": [
    "import numpy as np\n",
    "import pandas as pd\n",
    "import matplotlib.pyplot as plt\n",
    "import matplotlib.colors\n",
    "from mpl_toolkits.mplot3d import Axes3D\n",
    "\n",
    "# Basis for comparison with tensorflow\n",
    "from sklearn.cluster import KMeans\n",
    "\n",
    "# Need to have TensorFlow 2.1+ and Keras API installed. \n",
    "#!conda install tensorflow keras\n",
    "import tensorflow as tf\n",
    "from tensorflow import keras"
   ]
  },
  {
   "cell_type": "code",
   "execution_count": 2,
   "metadata": {},
   "outputs": [],
   "source": [
    "# Load just one of the participant's data.\n",
    "accel = pd.read_csv(\"motion/5383425_acceleration.txt\", sep=' ', names=['time', 'x', 'y', 'z'])\n",
    "accel = accel.set_index('time') # Allows for intuitive time-based selection of entries using accel.loc[start_time:end_time]"
   ]
  },
  {
   "cell_type": "code",
   "execution_count": 3,
   "metadata": {},
   "outputs": [
    {
     "data": {
      "text/html": [
       "<div>\n",
       "<style scoped>\n",
       "    .dataframe tbody tr th:only-of-type {\n",
       "        vertical-align: middle;\n",
       "    }\n",
       "\n",
       "    .dataframe tbody tr th {\n",
       "        vertical-align: top;\n",
       "    }\n",
       "\n",
       "    .dataframe thead th {\n",
       "        text-align: right;\n",
       "    }\n",
       "</style>\n",
       "<table border=\"1\" class=\"dataframe\">\n",
       "  <thead>\n",
       "    <tr style=\"text-align: right;\">\n",
       "      <th></th>\n",
       "      <th>x</th>\n",
       "      <th>y</th>\n",
       "      <th>z</th>\n",
       "    </tr>\n",
       "    <tr>\n",
       "      <th>time</th>\n",
       "      <th></th>\n",
       "      <th></th>\n",
       "      <th></th>\n",
       "    </tr>\n",
       "  </thead>\n",
       "  <tbody>\n",
       "    <tr>\n",
       "      <th>0.006860</th>\n",
       "      <td>-0.308105</td>\n",
       "      <td>0.793182</td>\n",
       "      <td>-0.532013</td>\n",
       "    </tr>\n",
       "    <tr>\n",
       "      <th>0.106564</th>\n",
       "      <td>-0.293762</td>\n",
       "      <td>0.781433</td>\n",
       "      <td>-0.532654</td>\n",
       "    </tr>\n",
       "    <tr>\n",
       "      <th>0.206275</th>\n",
       "      <td>-0.316559</td>\n",
       "      <td>0.786835</td>\n",
       "      <td>-0.521866</td>\n",
       "    </tr>\n",
       "    <tr>\n",
       "      <th>0.306368</th>\n",
       "      <td>-0.300186</td>\n",
       "      <td>0.782410</td>\n",
       "      <td>-0.530335</td>\n",
       "    </tr>\n",
       "    <tr>\n",
       "      <th>0.406317</th>\n",
       "      <td>-0.308609</td>\n",
       "      <td>0.787308</td>\n",
       "      <td>-0.529053</td>\n",
       "    </tr>\n",
       "  </tbody>\n",
       "</table>\n",
       "</div>"
      ],
      "text/plain": [
       "                 x         y         z\n",
       "time                                  \n",
       "0.006860 -0.308105  0.793182 -0.532013\n",
       "0.106564 -0.293762  0.781433 -0.532654\n",
       "0.206275 -0.316559  0.786835 -0.521866\n",
       "0.306368 -0.300186  0.782410 -0.530335\n",
       "0.406317 -0.308609  0.787308 -0.529053"
      ]
     },
     "execution_count": 3,
     "metadata": {},
     "output_type": "execute_result"
    }
   ],
   "source": [
    "# Polysomnography (PSG) starts at time 0. \n",
    "psg_accel = accel.loc[0:]\n",
    "psg_accel.head()"
   ]
  },
  {
   "cell_type": "code",
   "execution_count": 4,
   "metadata": {},
   "outputs": [
    {
     "data": {
      "text/plain": [
       "KMeans(algorithm='auto', copy_x=True, init='k-means++', max_iter=300,\n",
       "       n_clusters=6, n_init=10, n_jobs=None, precompute_distances='auto',\n",
       "       random_state=None, tol=0.0001, verbose=0)"
      ]
     },
     "execution_count": 4,
     "metadata": {},
     "output_type": "execute_result"
    }
   ],
   "source": [
    "psg_kmeans = KMeans(n_clusters=6, random) # n_clusters=6 based on Dr. Walch's paper.\n",
    "psg_kmeans.fit(psg_accel)"
   ]
  },
  {
   "cell_type": "code",
   "execution_count": 13,
   "metadata": {},
   "outputs": [],
   "source": [
    "psg_kmeans_labels = psg_kmeans.labels_ # Note that this has 100% accuracy; we use this for some matplotlib EDA below."
   ]
  },
  {
   "cell_type": "code",
   "execution_count": 9,
   "metadata": {},
   "outputs": [],
   "source": [
    "import matplotlib.colors\n",
    "from mpl_toolkits.mplot3d import Axes3D"
   ]
  },
  {
   "cell_type": "code",
   "execution_count": 11,
   "metadata": {},
   "outputs": [],
   "source": [
    "colors = plt.cm.Spectral(np.linspace(0, 1, 6))"
   ]
  },
  {
   "cell_type": "code",
   "execution_count": 29,
   "metadata": {},
   "outputs": [],
   "source": [
    "%matplotlib tk\n",
    "fig = plt.figure()\n",
    "ax = fig.add_subplot(111, projection=\"3d\")\n",
    "\n",
    "for k, col in zip(range(6), colors):\n",
    "    cluster = (psg_kmeans_labels == k)\n",
    "    \n",
    "    ax.scatter(psg_accel['x'][cluster], psg_accel['y'][cluster], psg_accel['z'][cluster], c=[col])"
   ]
  },
  {
   "cell_type": "code",
   "execution_count": null,
   "metadata": {},
   "outputs": [],
   "source": []
  }
 ],
 "metadata": {
  "kernelspec": {
   "display_name": "Python 3",
   "language": "python",
   "name": "python3"
  },
  "language_info": {
   "codemirror_mode": {
    "name": "ipython",
    "version": 3
   },
   "file_extension": ".py",
   "mimetype": "text/x-python",
   "name": "python",
   "nbconvert_exporter": "python",
   "pygments_lexer": "ipython3",
   "version": "3.7.4"
  }
 },
 "nbformat": 4,
 "nbformat_minor": 4
}

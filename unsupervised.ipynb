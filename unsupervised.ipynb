{
 "cells": [
  {
   "cell_type": "markdown",
   "metadata": {},
   "source": [
    "# Unsupervised learning on sleep_classifiers output data\n",
    "This Jupyter Notebook assumes that you have already run Dr. Olivia Walch's <a href=\"https://github.com/ojwalch/sleep_classifiers\">sleep_classifiers</a> preprocessor script, <a href=\"https://github.com/ojwalch/sleep_classifiers/tree/master/source/preprocessing\">preprocessing_runner.py</a>, and that the acceleration data is stored in <code>[jupyter_notebook_root]/data/motion</code>. Change the path in the second box below, otherwise; the data does have to exist within the Jupyter Lab path, though.\n",
    "\n",
    "We start by using _k_-means and DBSCAN classification with _k_ = 2 (asleep/awake, hopefully!) to have some other unsupervised models to compare with. In the future, we plan to use the well-known \"elbow\" method for choosing a _k_-value.\n",
    "    \n",
    "Please see also:  \n",
    "__Walch, O.__ (2019). _Motion and heart rate from a wrist-worn wearable and labeled sleep from polysomnography (version 1.0.0)_. PhysioNet. https://doi.org/10.13026/hmhs-py35   \n",
    "__Walch, O., Huang, Y., Forger, D., Goldstein, C.__ _Sleep stage prediction with raw acceleration and photoplethysmography heart rate data derived from a consumer wearable device_.  \n",
    "&nbsp;&nbsp;&nbsp;&nbsp;&nbsp;&nbsp;Sleep, vol. 42, issue 12. https://academic.oup.com/sleep/article/42/12/zsz180/5549536\n"
   ]
  },
  {
   "cell_type": "code",
   "execution_count": 1,
   "metadata": {},
   "outputs": [],
   "source": [
    "import numpy as np\n",
    "import pandas as pd\n",
    "import matplotlib.pyplot as plt\n",
    "import matplotlib.colors\n",
    "from mpl_toolkits.mplot3d import Axes3D\n",
    "\n",
    "# Basis for comparison with tensorflow\n",
    "from sklearn.cluster import DBSCAN\n",
    "from sklearn.cluster import KMeans\n",
    "\n",
    "# Need to have TensorFlow 2.1+ and Keras API installed. \n",
    "#!conda install tensorflow keras\n",
    "import tensorflow as tf\n",
    "from tensorflow import keras"
   ]
  },
  {
   "cell_type": "code",
   "execution_count": 3,
   "metadata": {},
   "outputs": [],
   "source": [
    "# Load just one of the participant's data.\n",
    "accel = pd.read_csv(\"data/motion/5383425_acceleration.txt\", sep=' ', names=['time', 'x', 'y', 'z'])\n",
    "accel = accel.set_index('time') # Allows for intuitive time-based selection of entries using accel.loc[start_time:end_time]"
   ]
  },
  {
   "cell_type": "code",
   "execution_count": 4,
   "metadata": {},
   "outputs": [
    {
     "data": {
      "text/plain": [
       "KMeans(algorithm='auto', copy_x=True, init='k-means++', max_iter=300,\n",
       "       n_clusters=2, n_init=10, n_jobs=None, precompute_distances='auto',\n",
       "       random_state=None, tol=0.0001, verbose=0)"
      ]
     },
     "execution_count": 4,
     "metadata": {},
     "output_type": "execute_result"
    }
   ],
   "source": [
    "psg_kmeans = KMeans(n_clusters=2) # n_clusters=6 based on Dr. Walch's paper.\n",
    "psg_kmeans.fit(accel)"
   ]
  },
  {
   "cell_type": "code",
   "execution_count": 5,
   "metadata": {},
   "outputs": [],
   "source": [
    "psg_kmeans_labels = psg_kmeans.labels_ "
   ]
  },
  {
   "cell_type": "code",
   "execution_count": 6,
   "metadata": {},
   "outputs": [],
   "source": [
    "colors = plt.cm.Spectral(np.linspace(0, 1, 2))"
   ]
  },
  {
   "cell_type": "code",
   "execution_count": 7,
   "metadata": {},
   "outputs": [
    {
     "data": {
      "text/plain": [
       "Text(0.5, 0, 'y accel')"
      ]
     },
     "execution_count": 7,
     "metadata": {},
     "output_type": "execute_result"
    }
   ],
   "source": [
    "# Uncomment for pop-out window that's interactive. The many data points is pretty punishing to 3d render on my computers, but maybe your GPU is better...\n",
    "%matplotlib tk\n",
    "# Uncomment for inline, non-interactive plotting.\n",
    "#%matplotlib inline \n",
    "fig = plt.figure(figsize=(15, 10)) # sometimes figsize prevents matplotlib from opening a GTK window, it seems. Remove figsize if so.\n",
    "ax = fig.add_subplot(111, projection=\"3d\")\n",
    "\n",
    "for k, col in zip(range(2), colors):\n",
    "    cluster = (psg_kmeans_labels == k)\n",
    "    \n",
    "    ax.scatter(accel['x'][cluster], accel['y'][cluster], accel['z'][cluster], c=[col])\n",
    " \n",
    "ax.set_xlabel('x accel')\n",
    "ax.set_ylabel('y accel')"
   ]
  },
  {
   "cell_type": "code",
   "execution_count": null,
   "metadata": {},
   "outputs": [],
   "source": []
  }
 ],
 "metadata": {
  "kernelspec": {
   "display_name": "Python 3",
   "language": "python",
   "name": "python3"
  },
  "language_info": {
   "codemirror_mode": {
    "name": "ipython",
    "version": 3
   },
   "file_extension": ".py",
   "mimetype": "text/x-python",
   "name": "python",
   "nbconvert_exporter": "python",
   "pygments_lexer": "ipython3",
   "version": "3.7.6"
  }
 },
 "nbformat": 4,
 "nbformat_minor": 4
}

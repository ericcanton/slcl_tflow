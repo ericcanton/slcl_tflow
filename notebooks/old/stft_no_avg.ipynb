{
  "nbformat": 4,
  "nbformat_minor": 0,
  "metadata": {
    "colab": {
      "name": "stft_no_avg.ipynb",
      "provenance": [],
      "collapsed_sections": [],
      "toc_visible": true
    },
    "kernelspec": {
      "name": "python3",
      "display_name": "Python 3"
    },
    "accelerator": "GPU"
  },
  "cells": [
    {
      "cell_type": "markdown",
      "metadata": {
        "id": "bdHhb1yag0aI",
        "colab_type": "text"
      },
      "source": [
        "# Classification of STFTs using Neural Networks\n",
        "This notebook trains a densely connected TensorFlow neural network, and a convolutional neural network, on the short term Fourier transforms of PSG-labled accelerometer data. The original accelerometer data can be generated using Dr. Olivia Walch's <a href=\"\"><code>sleep_classifiers</code></a> project.\n",
        "\n",
        "If you are viewing this on GitHub, I invite you to try the Notebook on Google Colab: https://colab.research.google.com/drive/1S0x3kIIwaSH3bDPteOlRET--e0cbm_sb\n",
        "\n",
        "## * ETL:\n",
        "The <code>pickled</code> data is the short term Fourier transform restulting from the following process:\n",
        "1. Load the <code>(timestamp, x,y,z)</code> acceleration timeseries for each subject in Dr. Walch's study.\n",
        "2. Take a temporal numerical derivative of the magnitude of <code>(x,y,z)</code> components.\n",
        "3. Considering 30 second intervals of this derivative, we interpolate the data to be evaluated on <code>np.arange(0, 30, 0.02)</code>, with this step size of 0.02 seconds chosen based on sampling statistics of time differentials over all subjects.  \n",
        "4. For each time segment, take a short term Fourier transform using <code>scipy.signal.sftf</code> with 65 frequencies per transform. These transforms have been <code>pickled</code> into <code>\"stfts.pickle\"</code>, along with a pickled NumPy array holding the PSG labels [0, ..., 5] (along with several -1).\n",
        "\n",
        "The array <code>ys</code> of labels is transformed into a binary array using <code>np.where(ys > 0, 1, 0)</code> before we fit the neural network. \n",
        "\n",
        "In case you don't have them already, you can access the data at these links:\n",
        "\n",
        "\n",
        "*   <code>labels.pickle</code>: https://drive.google.com/open?id=1u_g2sowu0ZD9inNbRB41oKPwsmFiksTY\n",
        "*   <code>stfts.pickle</code>: https://drive.google.com/open?id=1DDbrczvlrLOAxrb1Sos3mHFVf6-X0v6C\n",
        "\n",
        "\n",
        "\n",
        "## * Models\n",
        "\n",
        "We build three classification models: a dense neural network, a convolutional neural network, and a log regression model, and evaluate their classifcation capabilities on scaled and unscaled STFTs. The scaling transforms the values in the STFTs to fill the interval [0,  255], which is the usual value for greyscale images. \n",
        "\n",
        "### Neural Networks\n",
        "For the dense neural network, we do some trivial modifications to the neural network from the basis <a href=\"https://www.tensorflow.org/tutorials/keras/classification\">TensorFlow image classification tutorial notebook</a>. \n",
        "\n",
        "For the convolutional neural network, we also follow quite closely the <a href=\"https://www.tensorflow.org/tutorials/images/cnn?hl=en\">TensorFlow CNN tutorial</a>, albeit with one fewer max poolin and convolutional layer.  \n",
        "\n",
        "### Stochastic Gradient Descent Log Regression\n",
        "For a comparison of performance with more classical ML, in the third section we evaluate a log regression model on the scaled and unscaled data. \n",
        "\n",
        "## * Takeaways\n",
        "Precision and recall, per class, from a recent run are found below. \n",
        "\n",
        "DNN trained on unscaled data:\n",
        "\n",
        "              precision    recall\n",
        "\n",
        "       Awake       0.97      0.12\n",
        "      Asleep       0.89      1.00\n",
        "           \n",
        "DNN trained on scaled data:\n",
        "\n",
        "              precision    recall\n",
        "\n",
        "       Awake       0.75      0.02\n",
        "      Asleep       0.90      1.00 \n",
        "           \n",
        "CNN trained on unscaled data:\n",
        "\n",
        "              precision    recall\n",
        "\n",
        "       Awake       0.71      0.29\n",
        "      Asleep       0.91      0.98 \n",
        "           \n",
        "CNN trained on scaled data (this often has precision/recall 0 for Awake):\n",
        "\n",
        "              precision    recall \n",
        "\n",
        "       Awake       0.60      0.02  \n",
        "      Asleep       0.89      1.00  \n",
        "           \n",
        "Log regression trained on unscaled data:\n",
        "\n",
        "              precision    recall\n",
        "\n",
        "       Awake       0.21      0.52\n",
        "      Asleep       0.92      0.74\n",
        "\n",
        "Log regression trained on scaled data:\n",
        "\n",
        "              precision    recall\n",
        "\n",
        "       Awake       0.32      0.15\n",
        "      Asleep       0.91      0.96\n",
        "\n"
      ]
    },
    {
      "cell_type": "code",
      "metadata": {
        "id": "NZkGlPjLW9-h",
        "colab_type": "code",
        "colab": {}
      },
      "source": [
        "import pickle\n",
        "\n",
        "# TensorFlow and tf.keras\n",
        "import tensorflow as tf\n",
        "\n",
        "# Helper libraries\n",
        "import numpy as np\n",
        "import pandas as pd\n",
        "from sklearn.metrics import classification_report\n",
        "from sklearn.model_selection import train_test_split\n",
        "import matplotlib.pyplot as plt"
      ],
      "execution_count": 0,
      "outputs": []
    },
    {
      "cell_type": "code",
      "metadata": {
        "id": "XRuEqi7qU9X1",
        "colab_type": "code",
        "colab": {}
      },
      "source": [
        "# Do this to mount your Drive\n",
        "from google.colab import drive\n",
        "drive.mount('/content/drive')"
      ],
      "execution_count": 0,
      "outputs": []
    },
    {
      "cell_type": "code",
      "metadata": {
        "id": "v3nFjzSBYxGf",
        "colab_type": "code",
        "colab": {}
      },
      "source": [
        "# You can get thise filename, once your Drive is connected to Colab, \n",
        "# by finding the file on the left sidebar, right clicking, then \"Copy path\"\n",
        "stft_file = \"/content/drive/My Drive/Colab Notebooks/stfts.pickle\"\n",
        "labels_file = \"/content/drive/My Drive/Colab Notebooks/labels.pickle\""
      ],
      "execution_count": 0,
      "outputs": []
    },
    {
      "cell_type": "code",
      "metadata": {
        "id": "3ZLZ7cUlZQsB",
        "colab_type": "code",
        "colab": {}
      },
      "source": [
        "with open(stft_file, \"rb\") as f:\n",
        "  stfts = pickle.load(f)"
      ],
      "execution_count": 0,
      "outputs": []
    },
    {
      "cell_type": "code",
      "metadata": {
        "id": "B0T9ai6YZa7r",
        "colab_type": "code",
        "colab": {}
      },
      "source": [
        "with open(labels_file, \"rb\") as f:\n",
        "  ys = pickle.load(f)"
      ],
      "execution_count": 0,
      "outputs": []
    },
    {
      "cell_type": "code",
      "metadata": {
        "id": "drRLZwtXZ_jq",
        "colab_type": "code",
        "outputId": "19f8809f-f669-4a8a-82e1-ce30e886760a",
        "colab": {
          "base_uri": "https://localhost:8080/",
          "height": 34
        }
      },
      "source": [
        "# numpy.ndarray\n",
        "type(stfts)"
      ],
      "execution_count": 5,
      "outputs": [
        {
          "output_type": "execute_result",
          "data": {
            "text/plain": [
              "numpy.ndarray"
            ]
          },
          "metadata": {
            "tags": []
          },
          "execution_count": 5
        }
      ]
    },
    {
      "cell_type": "code",
      "metadata": {
        "id": "87v3jw8raBSZ",
        "colab_type": "code",
        "outputId": "d076e61b-d33c-43b6-f4ac-d97b5e26e444",
        "colab": {
          "base_uri": "https://localhost:8080/",
          "height": 34
        }
      },
      "source": [
        "# (23857, 65, 25)\n",
        "stfts.shape"
      ],
      "execution_count": 6,
      "outputs": [
        {
          "output_type": "execute_result",
          "data": {
            "text/plain": [
              "(23857, 65, 25)"
            ]
          },
          "metadata": {
            "tags": []
          },
          "execution_count": 6
        }
      ]
    },
    {
      "cell_type": "code",
      "metadata": {
        "id": "3R8prbuNaDeB",
        "colab_type": "code",
        "outputId": "848e5cd2-a071-4461-8dfb-c5aff76d58f9",
        "colab": {
          "base_uri": "https://localhost:8080/",
          "height": 34
        }
      },
      "source": [
        "# (23857,)\n",
        "ys.shape"
      ],
      "execution_count": 7,
      "outputs": [
        {
          "output_type": "execute_result",
          "data": {
            "text/plain": [
              "(23857,)"
            ]
          },
          "metadata": {
            "tags": []
          },
          "execution_count": 7
        }
      ]
    },
    {
      "cell_type": "code",
      "metadata": {
        "id": "nd3AhfSaa_82",
        "colab_type": "code",
        "colab": {}
      },
      "source": [
        "# Used to scale the STFTs so their values lie in [0, 255] instead of [-100, 36].\n",
        "# This is the usual range for black-and-white images. \n",
        "# Surprisingly (to me), this has a large impact on the classification power of the neural networks we build. \n",
        "def greyscaler(X):\n",
        "  if X.min() == X.max():\n",
        "    print(\"Error: cannot scale a constant array.\")\n",
        "    return None\n",
        "  else:\n",
        "    return 255.0*(X - X.min())/(X.max() - X.min())"
      ],
      "execution_count": 0,
      "outputs": []
    },
    {
      "cell_type": "code",
      "metadata": {
        "id": "2tB8YRp5Zvhi",
        "colab_type": "code",
        "colab": {}
      },
      "source": [
        "stfts_scaled = greyscaler(stfts)"
      ],
      "execution_count": 0,
      "outputs": []
    },
    {
      "cell_type": "code",
      "metadata": {
        "id": "61XKbjImbcc7",
        "colab_type": "code",
        "colab": {}
      },
      "source": [
        "# Convert Wake, NREM_m, REM classes into wake 0 /sleep 1\n",
        "ys_sw = np.where(ys > 0, 1, 0)"
      ],
      "execution_count": 0,
      "outputs": []
    },
    {
      "cell_type": "markdown",
      "metadata": {
        "id": "o_TrbsaJYtaf",
        "colab_type": "text"
      },
      "source": [
        "We will get two pairs of train/test splits, one for the scaled data and one for unscaled data. These are used throughout the Notebook for comparing the models and also exploring the impact of scaling on the classification capabilities. "
      ]
    },
    {
      "cell_type": "code",
      "metadata": {
        "colab_type": "code",
        "id": "rVXZrSAklqpu",
        "colab": {}
      },
      "source": [
        "# Get a train 90/test 10 split\n",
        "S_train, S_test, y_train, y_test = train_test_split(stfts, ys_sw, test_size=0.1)\n",
        "\n",
        "# Get a train 90/test 10 split of the scaled data, for performance comparison\n",
        "S_train_scaled, S_test_scaled, y_train_scaled, y_test_scaled = train_test_split(stfts_scaled, ys_sw, test_size=0.1)"
      ],
      "execution_count": 0,
      "outputs": []
    },
    {
      "cell_type": "markdown",
      "metadata": {
        "id": "2SL9QChtV7WC",
        "colab_type": "text"
      },
      "source": [
        "## Visualization of the SFTFs\n",
        "Before training the neural network, let's take a peek at the STFTs we loaded. There are a lot, so the cell below helps by choosing 9 of the STFTs at random and then plotting them. Each time you run this cell it picks a diffferent subset."
      ]
    },
    {
      "cell_type": "code",
      "metadata": {
        "id": "uSnTBAtMaV_U",
        "colab_type": "code",
        "outputId": "a906dc4a-bae8-4e46-febe-0e4a5cfa70b3",
        "colab": {
          "base_uri": "https://localhost:8080/",
          "height": 607
        }
      },
      "source": [
        "import random\n",
        "\n",
        "ys_len = len(ys)\n",
        "\n",
        "# Randomly select 9 indices for plotting the colormesh of their stft.\n",
        "# Running this cell repeatedly gives a new subset each time.\n",
        "inds = random.sample(range(ys_len), k=9)\n",
        "\n",
        "# mapping dict taking pairs (i,j) to our random indices\n",
        "# Used in for loop to plot random subset of our data.\n",
        "mapper = {\n",
        "    (0,0) : inds[0],\n",
        "    (0,1) : inds[1],\n",
        "    (0,2) : inds[2],\n",
        "    (1,0) : inds[3],\n",
        "    (1,1) : inds[4],\n",
        "    (1,2) : inds[5],\n",
        "    (2,0) : inds[6],\n",
        "    (2,1) : inds[7],\n",
        "    (2,2) : inds[8],\n",
        "}\n",
        "\n",
        "fig, axs = plt.subplots(ncols=3, nrows=3, figsize=(10,10))\n",
        "\n",
        "for i in [0,1,2]:\n",
        "    for j in [0,1,2]:\n",
        "        index = mapper[(i,j)]\n",
        "        X = stfts_scaled[index]\n",
        "        y = ys[index]\n",
        "        axs[i][j].pcolormesh(X)\n",
        "        axs[i][j].set_title(\"Index: {}, Class: {}\".format(index, y))"
      ],
      "execution_count": 29,
      "outputs": [
        {
          "output_type": "display_data",
          "data": {
            "image/png": "[encoded data removed]",
            "text/plain": [
              "<Figure size 720x720 with 9 Axes>"
            ]
          },
          "metadata": {
            "tags": [],
            "needs_background": "light"
          }
        }
      ]
    },
    {
      "cell_type": "markdown",
      "metadata": {
        "id": "AGe8z1R_WT-I",
        "colab_type": "text"
      },
      "source": [
        "# 1. Dense Neural Network\n",
        "Our network design choices are trivial modifications of the network set up in the classification TensorFlow tutorial. We make two models with identical layer blueprints so their fittings are independent (subsequent calls to the <code>fit</code> method continue with previously fitted parameters, eventually leading to a precision and recall of 0 for the awake class.)"
      ]
    },
    {
      "cell_type": "code",
      "metadata": {
        "id": "m2u9LFDHaXwZ",
        "colab_type": "code",
        "colab": {}
      },
      "source": [
        "dnn_model = tf.keras.Sequential([\n",
        "    tf.keras.layers.Flatten(input_shape=(65, 25)),\n",
        "    tf.keras.layers.Dense(128, activation='relu'),\n",
        "    tf.keras.layers.Dense(2)\n",
        "])\n",
        "\n",
        "\n",
        "dnn_model_scaled = tf.keras.Sequential([\n",
        "    tf.keras.layers.Flatten(input_shape=(65, 25)),\n",
        "    tf.keras.layers.Dense(128, activation='relu'),\n",
        "    tf.keras.layers.Dense(2)\n",
        "])"
      ],
      "execution_count": 0,
      "outputs": []
    },
    {
      "cell_type": "code",
      "metadata": {
        "id": "Q1xyb82Hbiv4",
        "colab_type": "code",
        "colab": {}
      },
      "source": [
        "dnn_model.compile(optimizer='adam',\n",
        "              loss=tf.keras.losses.SparseCategoricalCrossentropy(from_logits=True),\n",
        "              metrics=['accuracy'])\n",
        "\n",
        "dnn_model_scaled.compile(optimizer='adam',\n",
        "              loss=tf.keras.losses.SparseCategoricalCrossentropy(from_logits=True),\n",
        "              metrics=['accuracy']) \n",
        "              "
      ],
      "execution_count": 0,
      "outputs": []
    },
    {
      "cell_type": "code",
      "metadata": {
        "id": "jKhzNZxEgs6j",
        "colab_type": "code",
        "colab": {
          "base_uri": "https://localhost:8080/",
          "height": 255
        },
        "outputId": "db6a3c42-9a87-477f-e946-ee6e993bca2d"
      },
      "source": [
        "dnn_model.summary()"
      ],
      "execution_count": 14,
      "outputs": [
        {
          "output_type": "stream",
          "text": [
            "Model: \"sequential\"\n",
            "_________________________________________________________________\n",
            "Layer (type)                 Output Shape              Param #   \n",
            "=================================================================\n",
            "flatten (Flatten)            (None, 1625)              0         \n",
            "_________________________________________________________________\n",
            "dense (Dense)                (None, 128)               208128    \n",
            "_________________________________________________________________\n",
            "dense_1 (Dense)              (None, 2)                 258       \n",
            "=================================================================\n",
            "Total params: 208,386\n",
            "Trainable params: 208,386\n",
            "Non-trainable params: 0\n",
            "_________________________________________________________________\n"
          ],
          "name": "stdout"
        }
      ]
    },
    {
      "cell_type": "code",
      "metadata": {
        "id": "YfFdf4GrkXRX",
        "colab_type": "code",
        "colab": {
          "base_uri": "https://localhost:8080/",
          "height": 34
        },
        "outputId": "44f7dc8c-1664-44d0-9a37-c54a6b44434c"
      },
      "source": [
        "# Ensure the GPU is available. \n",
        "# This speeds up training the NNs, with significant gains on the CNN.\n",
        "device_name = tf.test.gpu_device_name()\n",
        "if device_name.find(\"GPU\") < 0:\n",
        "  print(\"No GPU found!\")\n",
        "else:\n",
        "  print(device_name)"
      ],
      "execution_count": 15,
      "outputs": [
        {
          "output_type": "stream",
          "text": [
            "/device:GPU:0\n"
          ],
          "name": "stdout"
        }
      ]
    },
    {
      "cell_type": "code",
      "metadata": {
        "id": "_tgfdkLvmhVJ",
        "colab_type": "code",
        "colab": {
          "base_uri": "https://localhost:8080/",
          "height": 544
        },
        "outputId": "0025b08e-35d5-4cd3-a9d8-b43f6c399446"
      },
      "source": [
        "# If you don't have GPUs available, you can run dnn_model.fit on its own. \n",
        "# The main difference is how rapidly training proceeds. \n",
        "with tf.device(device_name):\n",
        "  dnn_model.fit(S_train, y_train, epochs=10)\n",
        "\n",
        "print(\"=================================================================\")\n",
        "y_pred = np.argmax(dnn_model.predict(S_test), axis=-1)\n",
        "print(\"DNN trained on unscaled data:\")\n",
        "print(classification_report(y_test, y_pred, target_names=[\"Awake\", \"Asleep\"]))"
      ],
      "execution_count": 16,
      "outputs": [
        {
          "output_type": "stream",
          "text": [
            "Epoch 1/10\n",
            "671/671 [==============================] - 2s 3ms/step - loss: 9.2233 - accuracy: 0.8398\n",
            "Epoch 2/10\n",
            "671/671 [==============================] - 2s 3ms/step - loss: 3.1941 - accuracy: 0.8478\n",
            "Epoch 3/10\n",
            "671/671 [==============================] - 2s 3ms/step - loss: 1.6056 - accuracy: 0.8540\n",
            "Epoch 4/10\n",
            "671/671 [==============================] - 2s 3ms/step - loss: 0.7229 - accuracy: 0.8682\n",
            "Epoch 5/10\n",
            "671/671 [==============================] - 2s 3ms/step - loss: 0.4702 - accuracy: 0.8824\n",
            "Epoch 6/10\n",
            "671/671 [==============================] - 2s 3ms/step - loss: 0.3201 - accuracy: 0.9070\n",
            "Epoch 7/10\n",
            "671/671 [==============================] - 2s 3ms/step - loss: 0.2838 - accuracy: 0.9130\n",
            "Epoch 8/10\n",
            "671/671 [==============================] - 2s 3ms/step - loss: 0.2771 - accuracy: 0.9134\n",
            "Epoch 9/10\n",
            "671/671 [==============================] - 2s 3ms/step - loss: 0.2807 - accuracy: 0.9127\n",
            "Epoch 10/10\n",
            "671/671 [==============================] - 2s 3ms/step - loss: 0.2860 - accuracy: 0.9114\n",
            "=================================================================\n",
            "DNN trained on unscaled data:\n",
            "              precision    recall  f1-score   support\n",
            "\n",
            "       Awake       0.97      0.12      0.21       285\n",
            "      Asleep       0.89      1.00      0.94      2101\n",
            "\n",
            "    accuracy                           0.89      2386\n",
            "   macro avg       0.93      0.56      0.58      2386\n",
            "weighted avg       0.90      0.89      0.86      2386\n",
            "\n"
          ],
          "name": "stdout"
        }
      ]
    },
    {
      "cell_type": "code",
      "metadata": {
        "id": "ljsNfABIcYOY",
        "colab_type": "code",
        "outputId": "fce92c15-f62e-4252-e5ee-dcdec280d18d",
        "colab": {
          "base_uri": "https://localhost:8080/",
          "height": 544
        }
      },
      "source": [
        "with tf.device(device_name):\n",
        "  dnn_model_scaled.fit(S_train_scaled, y_train_scaled, epochs=10)\n",
        "\n",
        "print(\"=================================================================\")\n",
        "y_pred_scaled = np.argmax(dnn_model_scaled.predict(S_test_scaled), axis=-1)\n",
        "print(\"DNN trained on scaled data:\")\n",
        "print(classification_report(y_test_scaled, y_pred_scaled, target_names=[\"Awake\", \"Asleep\"]))"
      ],
      "execution_count": 17,
      "outputs": [
        {
          "output_type": "stream",
          "text": [
            "Epoch 1/10\n",
            "671/671 [==============================] - 2s 3ms/step - loss: 20.0652 - accuracy: 0.8210\n",
            "Epoch 2/10\n",
            "671/671 [==============================] - 2s 3ms/step - loss: 9.6550 - accuracy: 0.8313\n",
            "Epoch 3/10\n",
            "671/671 [==============================] - 2s 3ms/step - loss: 8.1544 - accuracy: 0.8315\n",
            "Epoch 4/10\n",
            "671/671 [==============================] - 2s 3ms/step - loss: 5.1026 - accuracy: 0.8390\n",
            "Epoch 5/10\n",
            "671/671 [==============================] - 2s 3ms/step - loss: 5.0819 - accuracy: 0.8352\n",
            "Epoch 6/10\n",
            "671/671 [==============================] - 2s 3ms/step - loss: 3.8928 - accuracy: 0.8351\n",
            "Epoch 7/10\n",
            "671/671 [==============================] - 2s 3ms/step - loss: 2.9750 - accuracy: 0.8370\n",
            "Epoch 8/10\n",
            "671/671 [==============================] - 2s 3ms/step - loss: 1.7354 - accuracy: 0.8484\n",
            "Epoch 9/10\n",
            "671/671 [==============================] - 2s 3ms/step - loss: 1.6360 - accuracy: 0.8449\n",
            "Epoch 10/10\n",
            "671/671 [==============================] - 2s 3ms/step - loss: 1.0284 - accuracy: 0.8488\n",
            "=================================================================\n",
            "DNN trained on scaled data:\n",
            "              precision    recall  f1-score   support\n",
            "\n",
            "       Awake       0.75      0.02      0.05       244\n",
            "      Asleep       0.90      1.00      0.95      2142\n",
            "\n",
            "    accuracy                           0.90      2386\n",
            "   macro avg       0.82      0.51      0.50      2386\n",
            "weighted avg       0.88      0.90      0.85      2386\n",
            "\n"
          ],
          "name": "stdout"
        }
      ]
    },
    {
      "cell_type": "markdown",
      "metadata": {
        "id": "0v9gYPVLS7VH",
        "colab_type": "text"
      },
      "source": [
        "# 2. Convolutional Neural Network\n",
        "Next we add convolutional layers, with max pooling between the convolutions, before passing the STFTs through two dense layers. As a first step, we need to reshape our data so that it can be passed through the <code>Conv2D</code> TensorFlow layers, which require higher-order tensors of type <code>(length, width, color/intensity)</code>. We do this by reshaping the train and test splits, essentially giving them the structure of black and white images (i.e. the colormeshes we created before) with shape <code>(65, 25, 1)</code>. The actual shape of <code>S_train_bw</code> is <code>(21471, 65, 25, 1)</code>, indicating we have 21471 samples in this training set.\n"
      ]
    },
    {
      "cell_type": "code",
      "metadata": {
        "id": "4Srul4EwUbi1",
        "colab_type": "code",
        "colab": {}
      },
      "source": [
        "# Apply reshaping to the unscaled and scaled train/test sets. \n",
        "\n",
        "S_train_bw = S_train.reshape(S_train.shape[0], 65, 25, 1) \n",
        "S_test_bw = S_test.reshape(S_test.shape[0], 65, 25, 1)\n",
        "\n",
        "S_train_scaled_bw = S_train_scaled.reshape(S_train_scaled.shape[0], 65, 25, 1)\n",
        "S_test_scaled_bw = S_test_scaled.reshape(S_test_scaled.shape[0], 65, 25, 1)"
      ],
      "execution_count": 0,
      "outputs": []
    },
    {
      "cell_type": "code",
      "metadata": {
        "id": "6889g8LnYFIz",
        "colab_type": "code",
        "colab": {
          "base_uri": "https://localhost:8080/",
          "height": 136
        },
        "outputId": "5f4cfd19-40f4-472a-85e4-5ef06dd94617"
      },
      "source": [
        "# Check that these are now (n_samples, 65, 25, 1) tensors\n",
        "print(\"Unscaled:\")\n",
        "print(S_train_bw.shape)\n",
        "print(S_test_bw.shape)\n",
        "\n",
        "print(\"\\nScaled:\")\n",
        "print(S_train_scaled_bw.shape)\n",
        "print(S_test_scaled_bw.shape)"
      ],
      "execution_count": 19,
      "outputs": [
        {
          "output_type": "stream",
          "text": [
            "Unscaled:\n",
            "(21471, 65, 25, 1)\n",
            "(2386, 65, 25, 1)\n",
            "\n",
            "Scaled:\n",
            "(21471, 65, 25, 1)\n",
            "(2386, 65, 25, 1)\n"
          ],
          "name": "stdout"
        }
      ]
    },
    {
      "cell_type": "code",
      "metadata": {
        "id": "3YpTyFzQQLmw",
        "colab_type": "code",
        "colab": {}
      },
      "source": [
        "cnn_model = tf.keras.models.Sequential([\n",
        "  tf.keras.layers.Conv2D(filters=32, \n",
        "                      kernel_size=3, \n",
        "                      activation='relu', \n",
        "                      input_shape=(65, 25, 1)),\n",
        "  tf.keras.layers.MaxPool2D((2,2)),\n",
        "  tf.keras.layers.Conv2D(filters=64, \n",
        "                      kernel_size=3, \n",
        "                      activation='relu'), \n",
        "  tf.keras.layers.Flatten(),\n",
        "  tf.keras.layers.Dense(64, activation='relu'),\n",
        "  tf.keras.layers.Dense(2)                                    \n",
        "])\n",
        "\n",
        "\n",
        "cnn_model_scaled = tf.keras.models.Sequential([\n",
        "  tf.keras.layers.Conv2D(filters=32, \n",
        "                      kernel_size=3, \n",
        "                      activation='relu', \n",
        "                      input_shape=(65, 25, 1)),\n",
        "  tf.keras.layers.MaxPool2D((2,2)),\n",
        "  tf.keras.layers.Conv2D(filters=64, \n",
        "                      kernel_size=3, \n",
        "                      activation='relu'), \n",
        "  tf.keras.layers.Flatten(),\n",
        "  tf.keras.layers.Dense(64, activation='relu'),\n",
        "  tf.keras.layers.Dense(2)                                    \n",
        "])"
      ],
      "execution_count": 0,
      "outputs": []
    },
    {
      "cell_type": "code",
      "metadata": {
        "id": "TyCTByXCTF8Z",
        "colab_type": "code",
        "colab": {
          "base_uri": "https://localhost:8080/",
          "height": 357
        },
        "outputId": "e7ead78d-de3a-4751-e011-35d49f34c724"
      },
      "source": [
        "cnn_model.compile(optimizer='adam',\n",
        "              loss=tf.keras.losses.SparseCategoricalCrossentropy(from_logits=True),\n",
        "              metrics=['accuracy'])\n",
        "\n",
        "cnn_model_scaled.compile(optimizer='adam',\n",
        "              loss=tf.keras.losses.SparseCategoricalCrossentropy(from_logits=True),\n",
        "              metrics=['accuracy'])\n",
        "\n",
        "# Ensure the neural networks are set up as we expect.\n",
        "cnn_model.summary()"
      ],
      "execution_count": 21,
      "outputs": [
        {
          "output_type": "stream",
          "text": [
            "Model: \"sequential_2\"\n",
            "_________________________________________________________________\n",
            "Layer (type)                 Output Shape              Param #   \n",
            "=================================================================\n",
            "conv2d (Conv2D)              (None, 63, 23, 32)        320       \n",
            "_________________________________________________________________\n",
            "max_pooling2d (MaxPooling2D) (None, 31, 11, 32)        0         \n",
            "_________________________________________________________________\n",
            "conv2d_1 (Conv2D)            (None, 29, 9, 64)         18496     \n",
            "_________________________________________________________________\n",
            "flatten_2 (Flatten)          (None, 16704)             0         \n",
            "_________________________________________________________________\n",
            "dense_4 (Dense)              (None, 64)                1069120   \n",
            "_________________________________________________________________\n",
            "dense_5 (Dense)              (None, 2)                 130       \n",
            "=================================================================\n",
            "Total params: 1,088,066\n",
            "Trainable params: 1,088,066\n",
            "Non-trainable params: 0\n",
            "_________________________________________________________________\n"
          ],
          "name": "stdout"
        }
      ]
    },
    {
      "cell_type": "code",
      "metadata": {
        "id": "qlshz_yqUy19",
        "colab_type": "code",
        "colab": {
          "base_uri": "https://localhost:8080/",
          "height": 544
        },
        "outputId": "351d14dd-dbe4-457c-cfe2-0b0942914521"
      },
      "source": [
        "# If you don't have GPUs available, you can call cnn_model.fit on its own. \n",
        "# The main advantage is that GPUs significantly speed up the training epochs.\n",
        "with tf.device(device_name):\n",
        "  cnn_model.fit(x=S_train_bw, y=y_train, epochs=10, verbose=2)\n",
        "\n",
        "print(\"=================================================================\")\n",
        "print(\"CNN trained on unscaled data:\")\n",
        "y_cnn_pred = np.argmax(cnn_model.predict(S_test_bw), axis=-1)\n",
        "print(classification_report(y_test, y_cnn_pred, target_names=[\"Awake\", \"Asleep\"]))"
      ],
      "execution_count": 22,
      "outputs": [
        {
          "output_type": "stream",
          "text": [
            "Epoch 1/10\n",
            "671/671 - 4s - loss: 0.6696 - accuracy: 0.9036\n",
            "Epoch 2/10\n",
            "671/671 - 3s - loss: 0.2788 - accuracy: 0.9133\n",
            "Epoch 3/10\n",
            "671/671 - 3s - loss: 0.2875 - accuracy: 0.9136\n",
            "Epoch 4/10\n",
            "671/671 - 3s - loss: 0.2754 - accuracy: 0.9164\n",
            "Epoch 5/10\n",
            "671/671 - 3s - loss: 0.2729 - accuracy: 0.9152\n",
            "Epoch 6/10\n",
            "671/671 - 3s - loss: 0.2752 - accuracy: 0.9156\n",
            "Epoch 7/10\n",
            "671/671 - 3s - loss: 0.2685 - accuracy: 0.9161\n",
            "Epoch 8/10\n",
            "671/671 - 3s - loss: 0.2677 - accuracy: 0.9174\n",
            "Epoch 9/10\n",
            "671/671 - 3s - loss: 0.2665 - accuracy: 0.9175\n",
            "Epoch 10/10\n",
            "671/671 - 3s - loss: 0.2687 - accuracy: 0.9173\n",
            "=================================================================\n",
            "CNN trained on unscaled data:\n",
            "              precision    recall  f1-score   support\n",
            "\n",
            "       Awake       0.71      0.29      0.42       285\n",
            "      Asleep       0.91      0.98      0.95      2101\n",
            "\n",
            "    accuracy                           0.90      2386\n",
            "   macro avg       0.81      0.64      0.68      2386\n",
            "weighted avg       0.89      0.90      0.88      2386\n",
            "\n"
          ],
          "name": "stdout"
        }
      ]
    },
    {
      "cell_type": "code",
      "metadata": {
        "id": "NgFQcIyWVWGe",
        "colab_type": "code",
        "colab": {
          "base_uri": "https://localhost:8080/",
          "height": 598
        },
        "outputId": "ffead42b-53b3-446f-f57b-651347b02b86"
      },
      "source": [
        "with tf.device(device_name):\n",
        "  cnn_model_scaled.fit(x=S_train_scaled_bw, y=y_train_scaled, epochs=10, verbose=2)\n",
        "  \n",
        "print(\"=================================================================\")\n",
        "print(\"CNN trained on scaled data:\")\n",
        "y_cnn_pred_scaled = np.argmax(cnn_model_scaled.predict(S_test_scaled_bw), axis=-1)\n",
        "print(classification_report(y_test_scaled, y_cnn_pred_scaled, target_names=[\"Awake\", \"Asleep\"]))"
      ],
      "execution_count": 23,
      "outputs": [
        {
          "output_type": "stream",
          "text": [
            "Epoch 1/10\n",
            "671/671 - 4s - loss: 1.3644 - accuracy: 0.8907\n",
            "Epoch 2/10\n",
            "671/671 - 3s - loss: 0.3344 - accuracy: 0.8996\n",
            "Epoch 3/10\n",
            "671/671 - 3s - loss: 0.3208 - accuracy: 0.9021\n",
            "Epoch 4/10\n",
            "671/671 - 3s - loss: 0.3158 - accuracy: 0.9014\n",
            "Epoch 5/10\n",
            "671/671 - 3s - loss: 0.3470 - accuracy: 0.8966\n",
            "Epoch 6/10\n",
            "671/671 - 3s - loss: 0.3269 - accuracy: 0.8976\n",
            "Epoch 7/10\n",
            "671/671 - 3s - loss: 0.3310 - accuracy: 0.8976\n",
            "Epoch 8/10\n",
            "671/671 - 3s - loss: 0.3381 - accuracy: 0.8976\n",
            "Epoch 9/10\n",
            "671/671 - 3s - loss: 0.3381 - accuracy: 0.8977\n",
            "Epoch 10/10\n",
            "671/671 - 3s - loss: 0.3330 - accuracy: 0.8976\n",
            "=================================================================\n",
            "CNN trained on scaled data:\n",
            "              precision    recall  f1-score   support\n",
            "\n",
            "       Awake       0.00      0.00      0.00       244\n",
            "      Asleep       0.90      1.00      0.95      2142\n",
            "\n",
            "    accuracy                           0.90      2386\n",
            "   macro avg       0.45      0.50      0.47      2386\n",
            "weighted avg       0.81      0.90      0.85      2386\n",
            "\n"
          ],
          "name": "stdout"
        },
        {
          "output_type": "stream",
          "text": [
            "/usr/local/lib/python3.6/dist-packages/sklearn/metrics/_classification.py:1272: UndefinedMetricWarning: Precision and F-score are ill-defined and being set to 0.0 in labels with no predicted samples. Use `zero_division` parameter to control this behavior.\n",
            "  _warn_prf(average, modifier, msg_start, len(result))\n"
          ],
          "name": "stderr"
        }
      ]
    },
    {
      "cell_type": "markdown",
      "metadata": {
        "id": "T6V4YDGmrF7T",
        "colab_type": "text"
      },
      "source": [
        "# 3. Logistic Regression Classifier (Stochastic Gradient Descent)\n",
        "For a comparison with classical classification, let's take a look at how <code>sklearn.linear_model.SGDClassifier</code> with a log-loss and class-balanced weights compares with our two neural networks."
      ]
    },
    {
      "cell_type": "code",
      "metadata": {
        "id": "6ppW-zmjrWSW",
        "colab_type": "code",
        "colab": {}
      },
      "source": [
        "from sklearn.linear_model import SGDClassifier"
      ],
      "execution_count": 0,
      "outputs": []
    },
    {
      "cell_type": "code",
      "metadata": {
        "id": "GphsOJ48rd5n",
        "colab_type": "code",
        "colab": {}
      },
      "source": [
        "log_reg = SGDClassifier(loss='log', class_weight='balanced')"
      ],
      "execution_count": 0,
      "outputs": []
    },
    {
      "cell_type": "code",
      "metadata": {
        "id": "pylpVUTks2pG",
        "colab_type": "code",
        "colab": {}
      },
      "source": [
        "# Flatten our STFTs so they can be processed by log_reg\n",
        "# Similar to our Flatten layer preceeding the dense layers above\n",
        "S_train_flat = np.array([s.flatten() for s in S_train])\n",
        "S_test_flat = np.array([s.flatten() for s in S_test])\n",
        "\n",
        "S_train_scaled_flat = np.array([s.flatten() for s in S_train_scaled])\n",
        "S_test_scaled_flat = np.array([s.flatten() for s in S_test_scaled])"
      ],
      "execution_count": 0,
      "outputs": []
    },
    {
      "cell_type": "code",
      "metadata": {
        "id": "osWI3OSlrkYm",
        "colab_type": "code",
        "colab": {
          "base_uri": "https://localhost:8080/",
          "height": 187
        },
        "outputId": "fe92eadb-392d-408c-ec04-2a253e899145"
      },
      "source": [
        "log_reg.fit(S_train_flat, y_train)\n",
        "\n",
        "y_log_pred = log_reg.predict(S_test_flat)\n",
        "\n",
        "print(\"Log regression trained on unscaled data:\")\n",
        "print(classification_report(y_test, y_log_pred, target_names=[\"Awake\", \"Asleep\"]))"
      ],
      "execution_count": 34,
      "outputs": [
        {
          "output_type": "stream",
          "text": [
            "Log regression trained on unscaled data:\n",
            "              precision    recall  f1-score   support\n",
            "\n",
            "       Awake       0.21      0.52      0.30       285\n",
            "      Asleep       0.92      0.74      0.82      2101\n",
            "\n",
            "    accuracy                           0.71      2386\n",
            "   macro avg       0.56      0.63      0.56      2386\n",
            "weighted avg       0.83      0.71      0.76      2386\n",
            "\n"
          ],
          "name": "stdout"
        }
      ]
    },
    {
      "cell_type": "code",
      "metadata": {
        "id": "BIty5Jp2sTVv",
        "colab_type": "code",
        "colab": {
          "base_uri": "https://localhost:8080/",
          "height": 187
        },
        "outputId": "8ce4f7ab-0d45-4245-e50d-4b0725e17e5c"
      },
      "source": [
        "log_reg.fit(S_train_scaled_flat, y_train_scaled)\n",
        "\n",
        "y_log_scaled_pred = log_reg.predict(S_test_scaled_flat)\n",
        "\n",
        "print(\"Log regression trained on scaled data:\")\n",
        "print(classification_report(y_test_scaled, y_log_scaled_pred, target_names=[\"Awake\", \"Asleep\"] ))"
      ],
      "execution_count": 35,
      "outputs": [
        {
          "output_type": "stream",
          "text": [
            "Log regression trained on scaled data:\n",
            "              precision    recall  f1-score   support\n",
            "\n",
            "       Awake       0.32      0.15      0.21       244\n",
            "      Asleep       0.91      0.96      0.94      2142\n",
            "\n",
            "    accuracy                           0.88      2386\n",
            "   macro avg       0.62      0.56      0.57      2386\n",
            "weighted avg       0.85      0.88      0.86      2386\n",
            "\n"
          ],
          "name": "stdout"
        }
      ]
    },
    {
      "cell_type": "code",
      "metadata": {
        "id": "pCixxVvCh-Rr",
        "colab_type": "code",
        "colab": {}
      },
      "source": [
        ""
      ],
      "execution_count": 0,
      "outputs": []
    }
  ]
}